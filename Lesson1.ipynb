{
 "cells": [
  {
   "cell_type": "markdown",
   "metadata": {},
   "source": [
    "#1 Работа с гитхабом\n",
    "Как создать копию проекта\n",
    "Переходим в проект -> Fork -> Create Fork\n",
    "\n",
    "Как отправить свои изменения по проекту\n",
    "Переходим в проект -> Делаем правки -> Commit changes -> Pull Request -> New Pull Request -> Create Pull Request \n",
    "\n",
    "#2Работа c Git\n",
    "Работа с проектом ->Explorer\n",
    "Скопировать ветку из GitHub -> Source Control\n",
    "Расширения -> Extension\n",
    "Поделиться проектом -> Live share\n"
   ]
  }
 ],
 "metadata": {
  "language_info": {
   "name": "python"
  }
 },
 "nbformat": 4,
 "nbformat_minor": 2
}
